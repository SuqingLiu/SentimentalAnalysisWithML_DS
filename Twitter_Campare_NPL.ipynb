{
 "cells": [
  {
   "cell_type": "code",
   "execution_count": 30,
   "id": "c4672255",
   "metadata": {},
   "outputs": [
    {
     "name": "stdout",
     "output_type": "stream",
     "text": [
      "What does the world prefer\n",
      "tesla\n",
      "----or----\n",
      "bmw\n",
      "\n",
      "\n",
      "people prefer tesla over bmw\n"
     ]
    }
   ],
   "source": [
    "import tweepy\n",
    "from textblob import TextBlob\n",
    "import preprocessor as p\n",
    "import statistics\n",
    "from typing import List\n",
    "\n",
    "client = tweepy.Client(bearer_token=\"Put your token here\")\n",
    "\n",
    "def get_tweets(keyword: str) -> List[str]:\n",
    "    query = keyword +  \" -is:retweet lang:en\"\n",
    "    all_tweets = []\n",
    "    tweets = tweepy.Paginator(client.search_recent_tweets, query=query,\n",
    "                              tweet_fields=['context_annotations', 'created_at'], max_results=100).flatten(limit=1000)\n",
    "    for tweet in tweets:\n",
    "        #print(tweet.text)\n",
    "        all_tweets.append(tweet.text)\n",
    "\n",
    "    return all_tweets\n",
    "\n",
    "def clean_tweets(all_tweets: List[str]) -> List[str]:\n",
    "    tweets_clean = []\n",
    "    for tweet in all_tweets:\n",
    "        tweets_clean.append(p.clean(tweet))\n",
    "\n",
    "    return tweets_clean\n",
    "\n",
    "def get_sentiment(all_tweets: List[str]) -> List[float]:\n",
    "    sentiment_scores = []\n",
    "    for tweet in all_tweets:\n",
    "        blob = TextBlob(tweet)\n",
    "        sentiment_scores.append(blob.sentiment.polarity)\n",
    "\n",
    "    return sentiment_scores\n",
    "\n",
    "def generate_average_sentiment_score(keyword: str) -> int:\n",
    "    tweets = get_tweets(keyword)\n",
    "    tweets_clean = clean_tweets(tweets)\n",
    "    sentiment_scores = get_sentiment(tweets_clean)\n",
    "\n",
    "    average_score = statistics.mean(sentiment_scores)\n",
    "    return average_score\n",
    "\n",
    "\n",
    "if __name__ == \"__main__\":\n",
    "\n",
    "    print(\"What does the world prefer\")\n",
    "    firt_thing = input()\n",
    "    print(\"----or----\")\n",
    "    second_thing = input()\n",
    "    print(\"\\n\")\n",
    "\n",
    "    firt_score = generate_average_sentiment_score(firt_thing)\n",
    "    second_score = generate_average_sentiment_score(second_thing)\n",
    "\n",
    "    if (firt_score > second_score):\n",
    "        print(\"people prefer \"+firt_thing+\" over \"+second_thing)\n",
    "    else:\n",
    "        print(\"people prefer \"+second_thing+\" over \"+firt_thing)\n",
    "\n",
    "\n"
   ]
  },
  {
   "cell_type": "code",
   "execution_count": null,
   "id": "9d4b0990",
   "metadata": {},
   "outputs": [],
   "source": []
  }
 ],
 "metadata": {
  "kernelspec": {
   "display_name": "Python 3 (ipykernel)",
   "language": "python",
   "name": "python3"
  },
  "language_info": {
   "codemirror_mode": {
    "name": "ipython",
    "version": 3
   },
   "file_extension": ".py",
   "mimetype": "text/x-python",
   "name": "python",
   "nbconvert_exporter": "python",
   "pygments_lexer": "ipython3",
   "version": "3.9.7"
  }
 },
 "nbformat": 4,
 "nbformat_minor": 5
}
